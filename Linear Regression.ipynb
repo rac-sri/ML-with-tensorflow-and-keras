{
 "cells": [
  {
   "cell_type": "code",
   "execution_count": 3,
   "metadata": {},
   "outputs": [],
   "source": [
    "import tensorflow as tf"
   ]
  },
  {
   "cell_type": "code",
   "execution_count": 22,
   "metadata": {},
   "outputs": [
    {
     "name": "stdout",
     "output_type": "stream",
     "text": [
      "[0.47136998]\n"
     ]
    }
   ],
   "source": [
    "var = tf.random.uniform([1])\n",
    "print(var.numpy())"
   ]
  },
  {
   "cell_type": "code",
   "execution_count": 23,
   "metadata": {},
   "outputs": [],
   "source": [
    "def dataCreation(w=0.1 , b=0.5 , n=100):\n",
    "    X = tf.random.uniform(shape = (100,))\n",
    "    noise = tf.random.normal(shape = (n,),mean=0.0,stddev=0.01)\n",
    "    Y = X*w + b + noise\n",
    "    return X.numpy(),Y.numpy()\n",
    "    \n",
    "X,Y = dataCreation()"
   ]
  },
  {
   "cell_type": "code",
   "execution_count": 24,
   "metadata": {},
   "outputs": [
    {
     "data": {
      "image/png": "[encoded data removed]",
      "text/plain": [
       "<Figure size 432x288 with 1 Axes>"
      ]
     },
     "metadata": {
      "needs_background": "light"
     },
     "output_type": "display_data"
    }
   ],
   "source": [
    "%matplotlib inline\n",
    "import matplotlib.pyplot as mpl\n",
    "mpl.hist(X)\n",
    "mpl.show()"
   ]
  },
  {
   "cell_type": "code",
   "execution_count": 34,
   "metadata": {},
   "outputs": [
    {
     "data": {
      "text/plain": [
       "[<matplotlib.lines.Line2D at 0x7f6a26e0e550>]"
      ]
     },
     "execution_count": 34,
     "metadata": {},
     "output_type": "execute_result"
    },
    {
     "data": {
      "image/png": "[encoded data removed]",
      "text/plain": [
       "<Figure size 432x288 with 1 Axes>"
      ]
     },
     "metadata": {
      "needs_background": "light"
     },
     "output_type": "display_data"
    }
   ],
   "source": [
    "w = 0.1\n",
    "b=0.5\n",
    "mpl.plot(X,Y,'go')   # g for green and o for circle\n",
    "mpl.plot([0,1], [0*w+b,1*w+b],'g:')"
   ]
  },
  {
   "cell_type": "code",
   "execution_count": 37,
   "metadata": {},
   "outputs": [
    {
     "data": {
      "text/plain": [
       "[<matplotlib.lines.Line2D at 0x7f6a26d16a60>]"
      ]
     },
     "execution_count": 37,
     "metadata": {},
     "output_type": "execute_result"
    },
    {
     "data": {
      "image/png": "[encoded data removed]",
      "text/plain": [
       "<Figure size 432x288 with 1 Axes>"
      ]
     },
     "metadata": {
      "needs_background": "light"
     },
     "output_type": "display_data"
    }
   ],
   "source": [
    "wGuess = 0.0\n",
    "bGuess = 0.0\n",
    "mpl.plot(X,Y,'b.')\n",
    "mpl.plot([0,1], [0*w+b,1*w+b],'g:')\n",
    "mpl.plot([0,1], [0*wGuess+bGuess,1*wGuess+bGuess],'r')"
   ]
  },
  {
   "cell_type": "code",
   "execution_count": 44,
   "metadata": {},
   "outputs": [],
   "source": [
    "def predict(x , w=w , b=b):\n",
    "    y = w * x + b\n",
    "    return y"
   ]
  },
  {
   "cell_type": "code",
   "execution_count": 45,
   "metadata": {},
   "outputs": [],
   "source": [
    "def meanSquaredError(yPred,Y):\n",
    "    return tf.reduce_mean(tf.square(yPred - Y))"
   ]
  },
  {
   "cell_type": "code",
   "execution_count": 46,
   "metadata": {},
   "outputs": [
    {
     "name": "stdout",
     "output_type": "stream",
     "text": [
      "tf.Tensor(0.00011089096, shape=(), dtype=float32)\n"
     ]
    }
   ],
   "source": [
    "print(meanSquaredError(predict(X),Y))"
   ]
  },
  {
   "cell_type": "code",
   "execution_count": 47,
   "metadata": {},
   "outputs": [
    {
     "name": "stdout",
     "output_type": "stream",
     "text": [
      "tf.Tensor(0.00011089096, shape=(), dtype=float32)\n"
     ]
    }
   ],
   "source": [
    "wGuess = 0.1\n",
    "bGuess = 0.5\n",
    "print(meanSquaredError(predict(X),Y))"
   ]
  },
  {
   "cell_type": "code",
   "execution_count": 53,
   "metadata": {},
   "outputs": [
    {
     "name": "stdout",
     "output_type": "stream",
     "text": [
      "Step 0\n",
      "Step 20\n",
      "Step 40\n",
      "Step 60\n",
      "Step 80\n",
      "Step 100\n",
      "Step 120\n",
      "Step 140\n",
      "Step 160\n",
      "Step 180\n"
     ]
    }
   ],
   "source": [
    "w = tf.Variable(0.0)\n",
    "b = tf.Variable(-1.0)\n",
    "\n",
    "learingRate = 0.1\n",
    "steps = 200\n",
    "\n",
    "for step in range(steps):\n",
    "    with tf.GradientTape() as tape:\n",
    "        predictions = predict(X , w= w ,b=b)\n",
    "        loss = meanSquaredError(predictions , Y)\n",
    "        \n",
    "    gradients = tape.gradient(loss , [w,b])\n",
    "    \n",
    "    w.assign_sub(gradients[0]*learingRate)\n",
    "    b.assign_sub(gradients[1]*learingRate)\n",
    "    \n",
    "    if step%20==0:\n",
    "        print(\"Step {}\".format(step))"
   ]
  },
  {
   "cell_type": "code",
   "execution_count": 54,
   "metadata": {},
   "outputs": [
    {
     "data": {
      "text/plain": [
       "<tf.Variable 'Variable:0' shape=() dtype=float32, numpy=0.13012467>"
      ]
     },
     "execution_count": 54,
     "metadata": {},
     "output_type": "execute_result"
    }
   ],
   "source": [
    "w"
   ]
  },
  {
   "cell_type": "code",
   "execution_count": 55,
   "metadata": {},
   "outputs": [
    {
     "data": {
      "text/plain": [
       "<tf.Variable 'Variable:0' shape=() dtype=float32, numpy=0.4853364>"
      ]
     },
     "execution_count": 55,
     "metadata": {},
     "output_type": "execute_result"
    }
   ],
   "source": [
    "b\n"
   ]
  },
  {
   "cell_type": "code",
   "execution_count": 57,
   "metadata": {},
   "outputs": [
    {
     "data": {
      "text/plain": [
       "[<matplotlib.lines.Line2D at 0x7f6a27549160>]"
      ]
     },
     "execution_count": 57,
     "metadata": {},
     "output_type": "execute_result"
    },
    {
     "data": {
      "image/png": "[encoded data removed]",
      "text/plain": [
       "<Figure size 432x288 with 1 Axes>"
      ]
     },
     "metadata": {
      "needs_background": "light"
     },
     "output_type": "display_data"
    }
   ],
   "source": [
    "wTrue = 0.1\n",
    "bTrue = 0.5\n",
    "mpl.plot(X,Y,'b.')\n",
    "mpl.plot([0,1], [0*w+b,1*w+b],'r:')\n",
    "mpl.plot([0,1], [0*wTrue+bTrue,1*wTrue+bTrue],'g:')"
   ]
  },
  {
   "cell_type": "code",
   "execution_count": null,
   "metadata": {},
   "outputs": [],
   "source": []
  }
 ],
 "metadata": {
  "kernelspec": {
   "display_name": "Python 3",
   "language": "python",
   "name": "python3"
  },
  "language_info": {
   "codemirror_mode": {
    "name": "ipython",
    "version": 3
   },
   "file_extension": ".py",
   "mimetype": "text/x-python",
   "name": "python",
   "nbconvert_exporter": "python",
   "pygments_lexer": "ipython3",
   "version": "3.8.2"
  }
 },
 "nbformat": 4,
 "nbformat_minor": 4
}
